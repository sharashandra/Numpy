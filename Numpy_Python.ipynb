{
 "cells": [
  {
   "cell_type": "code",
   "execution_count": 1,
   "id": "0ccb67ec-8b3a-411e-9981-10e71bc51961",
   "metadata": {},
   "outputs": [],
   "source": [
    "import numpy as np"
   ]
  },
  {
   "cell_type": "code",
   "execution_count": 2,
   "id": "146316d3-6fed-430b-8593-916f0f26114e",
   "metadata": {},
   "outputs": [
    {
     "data": {
      "text/plain": [
       "'1.26.3'"
      ]
     },
     "execution_count": 2,
     "metadata": {},
     "output_type": "execute_result"
    }
   ],
   "source": [
    "np.__version__"
   ]
  },
  {
   "cell_type": "code",
   "execution_count": 3,
   "id": "b0edb11e-f26d-479d-98fb-b30720eda38f",
   "metadata": {},
   "outputs": [
    {
     "data": {
      "text/plain": [
       "'3.11.8 (tags/v3.11.8:db85d51, Feb  6 2024, 22:03:32) [MSC v.1937 64 bit (AMD64)]'"
      ]
     },
     "execution_count": 3,
     "metadata": {},
     "output_type": "execute_result"
    }
   ],
   "source": [
    "import sys\n",
    "sys.version"
   ]
  },
  {
   "cell_type": "markdown",
   "id": "fc6743ac-143b-46ef-bbbc-905f6792a455",
   "metadata": {},
   "source": [
    "# Creating arrays using Numpy"
   ]
  },
  {
   "cell_type": "code",
   "execution_count": 4,
   "id": "b6dfb2a8-a0f5-4b35-b54f-868a9718d9f8",
   "metadata": {},
   "outputs": [
    {
     "data": {
      "text/plain": [
       "[0, 1, 2, 3, 4, 5]"
      ]
     },
     "execution_count": 4,
     "metadata": {},
     "output_type": "execute_result"
    }
   ],
   "source": [
    "my_list = [0, 1, 2, 3, 4, 5]\n",
    "my_list"
   ]
  },
  {
   "cell_type": "code",
   "execution_count": 5,
   "id": "acc00c28-925c-43c7-b048-f5cb98a05f6e",
   "metadata": {},
   "outputs": [
    {
     "data": {
      "text/plain": [
       "list"
      ]
     },
     "execution_count": 5,
     "metadata": {},
     "output_type": "execute_result"
    }
   ],
   "source": [
    "type(my_list)"
   ]
  },
  {
   "cell_type": "code",
   "execution_count": 6,
   "id": "f0859931-7a95-460c-899f-c83da6b8db71",
   "metadata": {},
   "outputs": [],
   "source": [
    "# creating arr using numpy\n",
    "arr = np.array(my_list)"
   ]
  },
  {
   "cell_type": "code",
   "execution_count": 7,
   "id": "a03146fe-a33f-45da-8069-c38002b2b7c5",
   "metadata": {},
   "outputs": [
    {
     "data": {
      "text/plain": [
       "array([0, 1, 2, 3, 4, 5])"
      ]
     },
     "execution_count": 7,
     "metadata": {},
     "output_type": "execute_result"
    }
   ],
   "source": [
    "arr"
   ]
  },
  {
   "cell_type": "code",
   "execution_count": 8,
   "id": "eb050684-255e-44c4-bd9d-b051a833a452",
   "metadata": {},
   "outputs": [
    {
     "data": {
      "text/plain": [
       "numpy.ndarray"
      ]
     },
     "execution_count": 8,
     "metadata": {},
     "output_type": "execute_result"
    }
   ],
   "source": [
    "type(arr)"
   ]
  },
  {
   "cell_type": "code",
   "execution_count": 9,
   "id": "6e502652-c0c1-41b1-92ee-07c620992421",
   "metadata": {},
   "outputs": [
    {
     "data": {
      "text/plain": [
       "list"
      ]
     },
     "execution_count": 9,
     "metadata": {},
     "output_type": "execute_result"
    }
   ],
   "source": [
    "type(my_list)"
   ]
  },
  {
   "cell_type": "code",
   "execution_count": 10,
   "id": "4d43ae1c-e12f-4271-90fd-cc1a2d2ff342",
   "metadata": {},
   "outputs": [
    {
     "data": {
      "text/plain": [
       "array([ 0,  1,  2,  3,  4,  5,  6,  7,  8,  9, 10, 11, 12, 13, 14])"
      ]
     },
     "execution_count": 10,
     "metadata": {},
     "output_type": "execute_result"
    }
   ],
   "source": [
    "# numpy functions.\n",
    "np.arange(15)"
   ]
  },
  {
   "cell_type": "code",
   "execution_count": 11,
   "id": "04fbe0c3-f56a-48ca-9668-04c0e9defff2",
   "metadata": {},
   "outputs": [
    {
     "data": {
      "text/plain": [
       "array([0., 1., 2., 3.])"
      ]
     },
     "execution_count": 11,
     "metadata": {},
     "output_type": "execute_result"
    }
   ],
   "source": [
    "np.arange(4.0)"
   ]
  },
  {
   "cell_type": "code",
   "execution_count": 12,
   "id": "f2ba42e9-9313-452b-b036-9c770d7d7184",
   "metadata": {},
   "outputs": [
    {
     "data": {
      "text/plain": [
       "array([0, 1, 2, 3, 4, 5, 6, 7, 8, 9])"
      ]
     },
     "execution_count": 12,
     "metadata": {},
     "output_type": "execute_result"
    }
   ],
   "source": [
    "np.arange(10)"
   ]
  },
  {
   "cell_type": "code",
   "execution_count": 13,
   "id": "f1341752-152f-41a7-87b5-96d5b67af143",
   "metadata": {},
   "outputs": [
    {
     "data": {
      "text/plain": [
       "array([0, 1, 2, 3, 4])"
      ]
     },
     "execution_count": 13,
     "metadata": {},
     "output_type": "execute_result"
    }
   ],
   "source": [
    "np.arange(0, 5)"
   ]
  },
  {
   "cell_type": "code",
   "execution_count": 14,
   "id": "3340599d-326d-4754-bc4d-c58e6e80e63b",
   "metadata": {},
   "outputs": [
    {
     "data": {
      "text/plain": [
       "array([10, 11, 12, 13, 14, 15, 16, 17, 18, 19])"
      ]
     },
     "execution_count": 14,
     "metadata": {},
     "output_type": "execute_result"
    }
   ],
   "source": [
    "np.arange(10, 20)"
   ]
  },
  {
   "cell_type": "code",
   "execution_count": 15,
   "id": "399770b4-4203-42e9-8100-6a73ac9e171e",
   "metadata": {},
   "outputs": [
    {
     "data": {
      "text/plain": [
       "array([], dtype=int32)"
      ]
     },
     "execution_count": 15,
     "metadata": {},
     "output_type": "execute_result"
    }
   ],
   "source": [
    "# first argument should be less than 2nd\n",
    "np.arange(20, 10)"
   ]
  },
  {
   "cell_type": "code",
   "execution_count": 16,
   "id": "9edb62c8-2c47-4dff-a848-6a2fd1f857ad",
   "metadata": {},
   "outputs": [
    {
     "data": {
      "text/plain": [
       "array([-20, -19, -18, -17, -16, -15, -14, -13, -12, -11, -10,  -9,  -8,\n",
       "        -7,  -6,  -5,  -4,  -3,  -2,  -1,   0,   1,   2,   3,   4,   5,\n",
       "         6,   7,   8,   9])"
      ]
     },
     "execution_count": 16,
     "metadata": {},
     "output_type": "execute_result"
    }
   ],
   "source": [
    "np.arange(-20, 10)"
   ]
  },
  {
   "cell_type": "code",
   "execution_count": 17,
   "id": "9db68a5e-d110-4787-b7b2-4adb4332c075",
   "metadata": {},
   "outputs": [
    {
     "data": {
      "text/plain": [
       "array([-16, -15, -14, -13, -12, -11, -10,  -9,  -8,  -7,  -6,  -5,  -4,\n",
       "        -3,  -2,  -1,   0,   1,   2,   3,   4,   5,   6,   7,   8,   9])"
      ]
     },
     "execution_count": 17,
     "metadata": {},
     "output_type": "execute_result"
    }
   ],
   "source": [
    "np.arange(-16, 10)"
   ]
  },
  {
   "cell_type": "code",
   "execution_count": 18,
   "id": "4d3c2c67-85b2-4884-8c56-fea5a0bd310c",
   "metadata": {},
   "outputs": [
    {
     "data": {
      "text/plain": [
       "array([-30, -29, -28, -27, -26, -25, -24, -23, -22, -21, -20, -19, -18,\n",
       "       -17, -16, -15, -14, -13, -12, -11, -10,  -9,  -8,  -7,  -6,  -5,\n",
       "        -4,  -3,  -2,  -1,   0,   1,   2,   3,   4,   5,   6,   7,   8,\n",
       "         9])"
      ]
     },
     "execution_count": 18,
     "metadata": {},
     "output_type": "execute_result"
    }
   ],
   "source": [
    "ar = np.arange(-30, 10)\n",
    "ar"
   ]
  },
  {
   "cell_type": "code",
   "execution_count": 19,
   "id": "b45327b3-b57a-4dcf-9a80-54bb3b0501a2",
   "metadata": {},
   "outputs": [
    {
     "data": {
      "text/plain": [
       "array([], dtype=int32)"
      ]
     },
     "execution_count": 19,
     "metadata": {},
     "output_type": "execute_result"
    }
   ],
   "source": [
    "np.arange(10, 10)"
   ]
  },
  {
   "cell_type": "code",
   "execution_count": 20,
   "id": "cfcf4bd9-9e8c-42fa-95b6-7fd3bec3bce9",
   "metadata": {},
   "outputs": [
    {
     "data": {
      "text/plain": [
       "array([ 5, 10, 15, 20, 25, 30, 35, 40, 45])"
      ]
     },
     "execution_count": 20,
     "metadata": {},
     "output_type": "execute_result"
    }
   ],
   "source": [
    "np.arange(5, 50, 5)"
   ]
  },
  {
   "cell_type": "code",
   "execution_count": 21,
   "id": "526b6254-82a4-45e0-a049-b2302b92493f",
   "metadata": {},
   "outputs": [
    {
     "data": {
      "text/plain": [
       "array([ 0,  2,  4,  6,  8, 10, 12, 14])"
      ]
     },
     "execution_count": 21,
     "metadata": {},
     "output_type": "execute_result"
    }
   ],
   "source": [
    "np.arange(0, 16, 2)"
   ]
  },
  {
   "cell_type": "code",
   "execution_count": 22,
   "id": "f4e69b24-2dad-454f-88bf-400a9ec6fd9d",
   "metadata": {},
   "outputs": [
    {
     "data": {
      "text/plain": [
       "array([0., 0., 0., 0., 0.])"
      ]
     },
     "execution_count": 22,
     "metadata": {},
     "output_type": "execute_result"
    }
   ],
   "source": [
    "np.zeros(5) # parameter tuning, default float"
   ]
  },
  {
   "cell_type": "code",
   "execution_count": 23,
   "id": "57e836d7-8698-4a24-9618-79530c15cd83",
   "metadata": {},
   "outputs": [
    {
     "data": {
      "text/plain": [
       "array([0, 0, 0, 0, 0, 0])"
      ]
     },
     "execution_count": 23,
     "metadata": {},
     "output_type": "execute_result"
    }
   ],
   "source": [
    "np.zeros(6, dtype = int)"
   ]
  },
  {
   "cell_type": "code",
   "execution_count": 24,
   "id": "d23019f5-475b-4597-a088-0d031c775689",
   "metadata": {},
   "outputs": [
    {
     "data": {
      "text/plain": [
       "array([[0, 0],\n",
       "       [0, 0]])"
      ]
     },
     "execution_count": 24,
     "metadata": {},
     "output_type": "execute_result"
    }
   ],
   "source": [
    "np.zeros((2,2), dtype = int) # 2D array with int"
   ]
  },
  {
   "cell_type": "code",
   "execution_count": 25,
   "id": "4b813bf4-e904-4001-9f89-90f2b7b31cc0",
   "metadata": {},
   "outputs": [
    {
     "data": {
      "text/plain": [
       "array([[0., 0.],\n",
       "       [0., 0.]])"
      ]
     },
     "execution_count": 25,
     "metadata": {},
     "output_type": "execute_result"
    }
   ],
   "source": [
    "np.zeros((2,2), dtype = float) # 2D array with float"
   ]
  },
  {
   "cell_type": "code",
   "execution_count": 26,
   "id": "c8f251e8-723a-4d5b-92ac-6546d3dd7045",
   "metadata": {},
   "outputs": [
    {
     "data": {
      "text/plain": [
       "array([[0, 0, 0],\n",
       "       [0, 0, 0],\n",
       "       [0, 0, 0]])"
      ]
     },
     "execution_count": 26,
     "metadata": {},
     "output_type": "execute_result"
    }
   ],
   "source": [
    "np.zeros((3,3), dtype = int)"
   ]
  },
  {
   "cell_type": "code",
   "execution_count": 27,
   "id": "f59c93b4-730b-4b77-8ec5-a8ffe9c89e84",
   "metadata": {},
   "outputs": [
    {
     "name": "stdout",
     "output_type": "stream",
     "text": [
      "[[0. 0.]\n",
      " [0. 0.]]\n",
      "<class 'numpy.ndarray'>\n"
     ]
    }
   ],
   "source": [
    "zero = np.zeros([2, 2])\n",
    "print(zero)\n",
    "print(type(zero))"
   ]
  },
  {
   "cell_type": "code",
   "execution_count": 28,
   "id": "c0db624b-729e-4bce-a96a-9691f56355da",
   "metadata": {},
   "outputs": [
    {
     "data": {
      "text/plain": [
       "array([[0., 0., 0., 0., 0., 0., 0., 0., 0., 0.],\n",
       "       [0., 0., 0., 0., 0., 0., 0., 0., 0., 0.]])"
      ]
     },
     "execution_count": 28,
     "metadata": {},
     "output_type": "execute_result"
    }
   ],
   "source": [
    "np.zeros((2, 10))"
   ]
  },
  {
   "cell_type": "code",
   "execution_count": 29,
   "id": "cb832166-99eb-4644-b160-0c2c6dff9cd8",
   "metadata": {},
   "outputs": [
    {
     "name": "stdout",
     "output_type": "stream",
     "text": [
      "[[0 0 0 0 0 0 0 0]\n",
      " [0 0 0 0 0 0 0 0]\n",
      " [0 0 0 0 0 0 0 0]\n",
      " [0 0 0 0 0 0 0 0]\n",
      " [0 0 0 0 0 0 0 0]\n",
      " [0 0 0 0 0 0 0 0]]\n",
      "\n",
      "[[0 0 0 0 0 0 0]\n",
      " [0 0 0 0 0 0 0]\n",
      " [0 0 0 0 0 0 0]\n",
      " [0 0 0 0 0 0 0]\n",
      " [0 0 0 0 0 0 0]\n",
      " [0 0 0 0 0 0 0]]\n"
     ]
    }
   ],
   "source": [
    "n = (6, 7)\n",
    "n1 = (6, 8)\n",
    "print(np.zeros(n1, dtype = int))\n",
    "print()\n",
    "print(np.zeros(n, dtype = int))"
   ]
  },
  {
   "cell_type": "code",
   "execution_count": 30,
   "id": "2051e773-a452-4654-8c95-15ee822def35",
   "metadata": {},
   "outputs": [
    {
     "data": {
      "text/plain": [
       "array([1., 1., 1.])"
      ]
     },
     "execution_count": 30,
     "metadata": {},
     "output_type": "execute_result"
    }
   ],
   "source": [
    "# ones function.\n",
    "np.ones(3)"
   ]
  },
  {
   "cell_type": "code",
   "execution_count": 31,
   "id": "5f7fb1a1-e28d-4690-96e6-9de0eb845d6f",
   "metadata": {},
   "outputs": [
    {
     "data": {
      "text/plain": [
       "array([1, 1, 1, 1])"
      ]
     },
     "execution_count": 31,
     "metadata": {},
     "output_type": "execute_result"
    }
   ],
   "source": [
    "np.ones(4, dtype = int)"
   ]
  },
  {
   "cell_type": "code",
   "execution_count": 32,
   "id": "fbe55331-c248-4847-ae32-482375db7551",
   "metadata": {},
   "outputs": [
    {
     "name": "stdout",
     "output_type": "stream",
     "text": [
      "[[1 1 1 1 1 1 1]\n",
      " [1 1 1 1 1 1 1]\n",
      " [1 1 1 1 1 1 1]\n",
      " [1 1 1 1 1 1 1]\n",
      " [1 1 1 1 1 1 1]\n",
      " [1 1 1 1 1 1 1]]\n",
      "\n",
      "[[1. 1. 1. 1. 1. 1. 1.]\n",
      " [1. 1. 1. 1. 1. 1. 1.]\n",
      " [1. 1. 1. 1. 1. 1. 1.]\n",
      " [1. 1. 1. 1. 1. 1. 1.]\n",
      " [1. 1. 1. 1. 1. 1. 1.]\n",
      " [1. 1. 1. 1. 1. 1. 1.]]\n"
     ]
    }
   ],
   "source": [
    "print(np.ones(n, dtype = int))\n",
    "print()\n",
    "print(np.ones(n))"
   ]
  },
  {
   "cell_type": "code",
   "execution_count": 33,
   "id": "3a72898a-81a9-4d11-af6a-9a10057ec9aa",
   "metadata": {},
   "outputs": [
    {
     "data": {
      "text/plain": [
       "range(0, 5)"
      ]
     },
     "execution_count": 33,
     "metadata": {},
     "output_type": "execute_result"
    }
   ],
   "source": [
    "r = range(5)\n",
    "r"
   ]
  },
  {
   "cell_type": "code",
   "execution_count": 34,
   "id": "54ad712e-218a-4da7-81ca-93fdc857e510",
   "metadata": {},
   "outputs": [
    {
     "name": "stdout",
     "output_type": "stream",
     "text": [
      "0\n",
      "1\n",
      "2\n",
      "3\n",
      "4\n"
     ]
    }
   ],
   "source": [
    "for i in r:\n",
    "    print(i)"
   ]
  },
  {
   "cell_type": "code",
   "execution_count": 35,
   "id": "fdac2a35-e736-478c-910f-0507a061f220",
   "metadata": {},
   "outputs": [
    {
     "ename": "AttributeError",
     "evalue": "module 'random' has no attribute 'rand'",
     "output_type": "error",
     "traceback": [
      "\u001b[1;31m---------------------------------------------------------------------------\u001b[0m",
      "\u001b[1;31mAttributeError\u001b[0m                            Traceback (most recent call last)",
      "Cell \u001b[1;32mIn[35], line 2\u001b[0m\n\u001b[0;32m      1\u001b[0m \u001b[38;5;28;01mimport\u001b[39;00m \u001b[38;5;21;01mrandom\u001b[39;00m\n\u001b[1;32m----> 2\u001b[0m \u001b[43mrandom\u001b[49m\u001b[38;5;241;43m.\u001b[39;49m\u001b[43mrand\u001b[49m(\u001b[38;5;241m2\u001b[39m,\u001b[38;5;241m3\u001b[39m)\n",
      "\u001b[1;31mAttributeError\u001b[0m: module 'random' has no attribute 'rand'"
     ]
    }
   ],
   "source": [
    "import random\n",
    "random.rand(2,3)"
   ]
  },
  {
   "cell_type": "code",
   "execution_count": 36,
   "id": "fe40f229-20e8-4325-888f-70c539731eb8",
   "metadata": {},
   "outputs": [
    {
     "data": {
      "text/plain": [
       "array([0.61213934, 0.08070786, 0.28832525, 0.08674509, 0.07093196])"
      ]
     },
     "execution_count": 36,
     "metadata": {},
     "output_type": "execute_result"
    }
   ],
   "source": [
    "np.random.rand(5)"
   ]
  },
  {
   "cell_type": "code",
   "execution_count": 37,
   "id": "13df4d30-34db-42bd-8b0d-cf6aa172f39a",
   "metadata": {},
   "outputs": [
    {
     "data": {
      "text/plain": [
       "array([[0.88412462, 0.17644176, 0.67628007, 0.7110135 ],\n",
       "       [0.45061021, 0.48763118, 0.20592578, 0.30386873]])"
      ]
     },
     "execution_count": 37,
     "metadata": {},
     "output_type": "execute_result"
    }
   ],
   "source": [
    "np.random.rand(2,4) # 2 rows and 4 columns create arrays with random values"
   ]
  },
  {
   "cell_type": "code",
   "execution_count": 38,
   "id": "1cb2afad-05b3-4c72-96af-ebfb0642153e",
   "metadata": {},
   "outputs": [
    {
     "data": {
      "text/plain": [
       "2"
      ]
     },
     "execution_count": 38,
     "metadata": {},
     "output_type": "execute_result"
    }
   ],
   "source": [
    "np.random.randint(2,4) # generates int values."
   ]
  },
  {
   "cell_type": "code",
   "execution_count": 39,
   "id": "61bffa1a-dac4-42b6-930a-9b745d2b0c5f",
   "metadata": {},
   "outputs": [
    {
     "data": {
      "text/plain": [
       "15"
      ]
     },
     "execution_count": 39,
     "metadata": {},
     "output_type": "execute_result"
    }
   ],
   "source": [
    "np.random.randint(2, 20)"
   ]
  },
  {
   "cell_type": "code",
   "execution_count": 40,
   "id": "9eddb8bf-bf05-465f-9775-efa2067855ec",
   "metadata": {},
   "outputs": [
    {
     "data": {
      "text/plain": [
       "array([[19, 17, 38, 24, 22, 36, 33, 12, 38, 39],\n",
       "       [21, 18, 12, 34, 12, 12, 33, 21, 21, 28],\n",
       "       [11, 12, 24, 11, 16, 31, 24, 20, 22, 26],\n",
       "       [35, 16, 35, 39, 30, 18, 38, 36, 22, 25],\n",
       "       [27, 18, 14, 15, 16, 32, 30, 29, 14, 39],\n",
       "       [35, 17, 25, 21, 36, 19, 10, 31, 10, 22],\n",
       "       [24, 29, 36, 15, 12, 39, 32, 25, 38, 26],\n",
       "       [11, 15, 36, 26, 30, 34, 10, 35, 22, 23],\n",
       "       [17, 31, 11, 34, 29, 22, 33, 35, 34, 27],\n",
       "       [19, 32, 13, 14, 14, 23, 25, 15, 31, 19]])"
      ]
     },
     "execution_count": 40,
     "metadata": {},
     "output_type": "execute_result"
    }
   ],
   "source": [
    "np.random.randint(10,40,(10,10)) # Create 10 X 10 matrix, values b/w 10 and 40"
   ]
  },
  {
   "cell_type": "code",
   "execution_count": 42,
   "id": "cc62743b-4769-4ee3-bc6a-7c409a9c57be",
   "metadata": {},
   "outputs": [
    {
     "data": {
      "text/plain": [
       "array([[12, 13, 10, 16],\n",
       "       [12, 18, 19, 18],\n",
       "       [15, 12, 10, 14],\n",
       "       [15, 13, 17, 14],\n",
       "       [15, 13, 19, 12]])"
      ]
     },
     "execution_count": 42,
     "metadata": {},
     "output_type": "execute_result"
    }
   ],
   "source": [
    "b = np.random.randint(10,20,(5, 4))\n",
    "b"
   ]
  },
  {
   "cell_type": "code",
   "execution_count": 43,
   "id": "09a934a8-3547-413d-b2f8-64d123397738",
   "metadata": {},
   "outputs": [
    {
     "data": {
      "text/plain": [
       "array([[12, 13, 10, 16],\n",
       "       [12, 18, 19, 18],\n",
       "       [15, 12, 10, 14],\n",
       "       [15, 13, 17, 14],\n",
       "       [15, 13, 19, 12]])"
      ]
     },
     "execution_count": 43,
     "metadata": {},
     "output_type": "execute_result"
    }
   ],
   "source": [
    "b[:]"
   ]
  },
  {
   "cell_type": "code",
   "execution_count": 44,
   "id": "3284f7e0-644e-4924-b252-f445fc4d4210",
   "metadata": {},
   "outputs": [
    {
     "data": {
      "text/plain": [
       "array([[12, 18, 19, 18],\n",
       "       [15, 12, 10, 14]])"
      ]
     },
     "execution_count": 44,
     "metadata": {},
     "output_type": "execute_result"
    }
   ],
   "source": [
    "b[1:3] # only rows will be shown"
   ]
  },
  {
   "cell_type": "code",
   "execution_count": 45,
   "id": "979c7f07-2344-441a-882b-7cb218216396",
   "metadata": {},
   "outputs": [
    {
     "data": {
      "text/plain": [
       "18"
      ]
     },
     "execution_count": 45,
     "metadata": {},
     "output_type": "execute_result"
    }
   ],
   "source": [
    "b[1,3] # gives specific elements"
   ]
  },
  {
   "cell_type": "code",
   "execution_count": 46,
   "id": "d5971578-5337-4757-8ca1-74cc9f77e582",
   "metadata": {},
   "outputs": [
    {
     "data": {
      "text/plain": [
       "array([[12, 13, 10, 16],\n",
       "       [12, 18, 19, 18],\n",
       "       [15, 12, 10, 14],\n",
       "       [15, 13, 17, 14]])"
      ]
     },
     "execution_count": 46,
     "metadata": {},
     "output_type": "execute_result"
    }
   ],
   "source": [
    "b[0:-1]"
   ]
  },
  {
   "cell_type": "code",
   "execution_count": 47,
   "id": "858f8900-29a9-4f13-aa6e-76e39af98a8a",
   "metadata": {},
   "outputs": [
    {
     "data": {
      "text/plain": [
       "array([[12, 13, 10, 16],\n",
       "       [12, 18, 19, 18],\n",
       "       [15, 12, 10, 14]])"
      ]
     },
     "execution_count": 47,
     "metadata": {},
     "output_type": "execute_result"
    }
   ],
   "source": [
    "b[0:-2]"
   ]
  },
  {
   "cell_type": "code",
   "execution_count": 48,
   "id": "73a6ce3d-12a4-4455-ba0e-b32a37292ff4",
   "metadata": {},
   "outputs": [
    {
     "data": {
      "text/plain": [
       "array([[12, 13, 10, 16],\n",
       "       [12, 18, 19, 18],\n",
       "       [15, 12, 10, 14],\n",
       "       [15, 13, 17, 14],\n",
       "       [15, 13, 19, 12]])"
      ]
     },
     "execution_count": 48,
     "metadata": {},
     "output_type": "execute_result"
    }
   ],
   "source": [
    "b"
   ]
  },
  {
   "cell_type": "code",
   "execution_count": 49,
   "id": "8edc16e4-84c7-4ece-9407-094a86714bed",
   "metadata": {},
   "outputs": [
    {
     "data": {
      "text/plain": [
       "13"
      ]
     },
     "execution_count": 49,
     "metadata": {},
     "output_type": "execute_result"
    }
   ],
   "source": [
    "b[-5,-3]"
   ]
  },
  {
   "cell_type": "code",
   "execution_count": 50,
   "id": "232d4593-f96d-4a3e-b06f-9b1b84e32929",
   "metadata": {},
   "outputs": [
    {
     "data": {
      "text/plain": [
       "19"
      ]
     },
     "execution_count": 50,
     "metadata": {},
     "output_type": "execute_result"
    }
   ],
   "source": [
    "b[-4,2]"
   ]
  },
  {
   "cell_type": "markdown",
   "id": "27cfe188-902d-4e02-81a4-ccedd22c6ddc",
   "metadata": {},
   "source": [
    "# operations"
   ]
  },
  {
   "cell_type": "code",
   "execution_count": 53,
   "id": "27178d86-a532-48fb-92a7-728432462e23",
   "metadata": {},
   "outputs": [
    {
     "data": {
      "text/plain": [
       "array([[58, 68, 49, 21, 59, 87, 98, 43, 64, 66],\n",
       "       [ 7, 24, 44, 31, 61,  1, 56, 32, 84,  3],\n",
       "       [ 2, 90, 56, 69, 89, 81, 41, 17, 69, 49],\n",
       "       [96,  8, 72, 72, 90, 70,  6, 11, 82, 49],\n",
       "       [79, 73, 96, 81, 33,  4, 86, 74, 64, 48],\n",
       "       [98, 74, 62,  8, 96, 29, 35,  4, 76, 20],\n",
       "       [13,  7, 39, 50, 19, 95, 55, 27, 64, 59],\n",
       "       [80, 35, 29, 48,  5, 85,  5, 83,  6, 67],\n",
       "       [51, 10, 99, 42, 79,  6, 33, 66, 12, 65],\n",
       "       [26, 65, 41, 28, 22, 84, 75, 46, 52, 38]])"
      ]
     },
     "execution_count": 53,
     "metadata": {},
     "output_type": "execute_result"
    }
   ],
   "source": [
    "arr12 = np.random.randint(1, 100, (10, 10))\n",
    "arr12"
   ]
  },
  {
   "cell_type": "code",
   "execution_count": 54,
   "id": "04ff1251-0082-441c-a4f7-7d925b36a2b2",
   "metadata": {},
   "outputs": [
    {
     "data": {
      "text/plain": [
       "array([[26, 65, 41, 28, 22, 84, 75, 46, 52, 38],\n",
       "       [51, 10, 99, 42, 79,  6, 33, 66, 12, 65],\n",
       "       [80, 35, 29, 48,  5, 85,  5, 83,  6, 67],\n",
       "       [13,  7, 39, 50, 19, 95, 55, 27, 64, 59],\n",
       "       [98, 74, 62,  8, 96, 29, 35,  4, 76, 20],\n",
       "       [79, 73, 96, 81, 33,  4, 86, 74, 64, 48],\n",
       "       [96,  8, 72, 72, 90, 70,  6, 11, 82, 49],\n",
       "       [ 2, 90, 56, 69, 89, 81, 41, 17, 69, 49],\n",
       "       [ 7, 24, 44, 31, 61,  1, 56, 32, 84,  3],\n",
       "       [58, 68, 49, 21, 59, 87, 98, 43, 64, 66]])"
      ]
     },
     "execution_count": 54,
     "metadata": {},
     "output_type": "execute_result"
    }
   ],
   "source": [
    "arr12[::-1]"
   ]
  },
  {
   "cell_type": "code",
   "execution_count": 55,
   "id": "e7604d79-3686-4d25-9339-a2309693707c",
   "metadata": {},
   "outputs": [
    {
     "data": {
      "text/plain": [
       "array([[26, 65, 41, 28, 22, 84, 75, 46, 52, 38],\n",
       "       [80, 35, 29, 48,  5, 85,  5, 83,  6, 67],\n",
       "       [98, 74, 62,  8, 96, 29, 35,  4, 76, 20],\n",
       "       [96,  8, 72, 72, 90, 70,  6, 11, 82, 49],\n",
       "       [ 7, 24, 44, 31, 61,  1, 56, 32, 84,  3]])"
      ]
     },
     "execution_count": 55,
     "metadata": {},
     "output_type": "execute_result"
    }
   ],
   "source": [
    "arr12[::-2]"
   ]
  },
  {
   "cell_type": "code",
   "execution_count": 56,
   "id": "8da30517-e5d2-4349-8848-15e2f55d71c3",
   "metadata": {},
   "outputs": [
    {
     "data": {
      "text/plain": [
       "array([0, 1, 2, 3, 4, 5])"
      ]
     },
     "execution_count": 56,
     "metadata": {},
     "output_type": "execute_result"
    }
   ],
   "source": [
    "arr"
   ]
  },
  {
   "cell_type": "code",
   "execution_count": 57,
   "id": "67b019a1-54f0-4b28-8a91-0912d220d27f",
   "metadata": {},
   "outputs": [
    {
     "data": {
      "text/plain": [
       "array([[0, 1],\n",
       "       [2, 3],\n",
       "       [4, 5]])"
      ]
     },
     "execution_count": 57,
     "metadata": {},
     "output_type": "execute_result"
    }
   ],
   "source": [
    "arr.reshape(3,2) # convert arr into a matrix of 3 rows and 2 columns"
   ]
  },
  {
   "cell_type": "code",
   "execution_count": 58,
   "id": "a24a3e1c-c07b-4a87-a163-75a89ba4fece",
   "metadata": {},
   "outputs": [
    {
     "data": {
      "text/plain": [
       "array([[0, 1, 2],\n",
       "       [3, 4, 5]])"
      ]
     },
     "execution_count": 58,
     "metadata": {},
     "output_type": "execute_result"
    }
   ],
   "source": [
    "arr.reshape(2,3)"
   ]
  },
  {
   "cell_type": "code",
   "execution_count": null,
   "id": "77649ebb-0248-4a41-891d-0aaeb60d7c06",
   "metadata": {},
   "outputs": [],
   "source": []
  }
 ],
 "metadata": {
  "kernelspec": {
   "display_name": "Python 3 (ipykernel)",
   "language": "python",
   "name": "python3"
  },
  "language_info": {
   "codemirror_mode": {
    "name": "ipython",
    "version": 3
   },
   "file_extension": ".py",
   "mimetype": "text/x-python",
   "name": "python",
   "nbconvert_exporter": "python",
   "pygments_lexer": "ipython3",
   "version": "3.11.8"
  }
 },
 "nbformat": 4,
 "nbformat_minor": 5
}
